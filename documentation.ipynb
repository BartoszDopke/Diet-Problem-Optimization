{
 "cells": [
  {
   "cell_type": "markdown",
   "metadata": {},
   "source": [
    "# Diet Problem written in Julia Language"
   ]
  },
  {
   "cell_type": "markdown",
   "metadata": {},
   "source": [
    "## 1. First of all, you need to upload certain packages"
   ]
  },
  {
   "cell_type": "code",
   "execution_count": null,
   "metadata": {},
   "outputs": [],
   "source": [
    "Pkg.add(\"DataDeps\")\n",
    "Pkg.add(\"ExcelFiles\")\n",
    "Pkg.add(\"DataFrames\")\n"
   ]
  },
  {
   "cell_type": "code",
   "execution_count": null,
   "metadata": {},
   "outputs": [],
   "source": [
    "using JuMP\n",
    "using GLPKMathProgInterface\n",
    "using ExcelFiles, DataFrames"
   ]
  },
  {
   "cell_type": "markdown",
   "metadata": {},
   "source": [
    "## 2. Load your database by using DataFrame"
   ]
  },
  {
   "cell_type": "code",
   "execution_count": null,
   "metadata": {},
   "outputs": [],
   "source": [
    "const nutrients = DataFrame(load(\"ausnut.xls\", \"Food Nutrient Database\"))"
   ]
  },
  {
   "cell_type": "markdown",
   "metadata": {},
   "source": [
    "## 3. Create functions to solve Diet Problem"
   ]
  },
  {
   "cell_type": "code",
   "execution_count": null,
   "metadata": {},
   "outputs": [],
   "source": [
    "using JuMP\n",
    "using LinearAlgebra\n",
    "function new_diet(solver = GLPKSolverLP())\n",
    "    m = Model(solver= solver)\n",
    "    @variable(m, diet[1:size(nutrients,1)], lowerbound=0)\n",
    "    m, diet \n",
    "end"
   ]
  },
  {
   "cell_type": "markdown",
   "metadata": {},
   "source": [
    "### Function below takes certain rows and columns and read their values. Names of columns and rows depend on database you use"
   ]
  },
  {
   "cell_type": "code",
   "execution_count": null,
   "metadata": {},
   "outputs": [],
   "source": [
    "function total_intake(nutrient_name, diet)\n",
    "    nutrients[:, Symbol(nutrient_name)] ⋅ diet\n",
    "end\n",
    "\n",
    "function basic_nutrient_requirements(m::Model, diet, weight = 62) # average human is 62 kg\n",
    "    intake(nutrient_name) = total_intake(nutrient_name, diet) \n",
    "    # ^ closure over the diet given as an argument\n",
    "        \n",
    "    @constraints(m, begin\n",
    "        70 <= intake(\"Protein (g)\") \n",
    "        70 <= intake(\"Total fat (g)\") \n",
    "        24 <= intake(\"Total saturated fat (g)\") \n",
    "        90 <= intake(\"Total sugars (g)\") \n",
    "        intake(\"Alcohol (g)\") <= 100\n",
    "        310 <= intake(\"Available carbohydrates, with sugar alcohols (g)\") \n",
    "        intake(\"Sodium (Na) (mg)\") <= 2300 # Heart Council\n",
    "        intake(\"Caffeine (mg)\") <= 400\n",
    "        25 <=intake(\"Dietary fibre (g)\") \n",
    "        24 <= intake(\"Total trans fatty acids (mg)\") \n",
    "        25 <= intake(\"Vitamin A retinol equivalents (µg)\") <= 900\n",
    "        1.2 <= intake(\"Thiamin (B1) (mg)\") \n",
    "        400 <= intake(\"Dietary folate equivalents  (µg)\") \n",
    "        1000 <= intake(\"Folic acid  (µg)\") # https://ods.od.nih.gov/factsheets/Folate-HealthProfessional/\n",
    "        75 <= intake(\"Vitamin C (mg)\") <= 2000 ##https://en.wikipedia.org/wiki/Dietary_Reference_Intake\n",
    "        95 <= intake(\"Iodine (I) (µg)\") <=1100 ##https://en.wikipedia.org/wiki/Dietary_Reference_Intake\n",
    "        6 <= intake(\"Iron (Fe) (mg)\") <= 45 # #https://en.wikipedia.org/wiki/Dietary_Reference_Intake\n",
    "        330 <= intake(\"Magnesium (Mg) (mg)\") \n",
    "        580 <= intake(\"Phosphorus (P) (mg)\") <= 4000 #https://en.wikipedia.org/wiki/Dietary_Reference_Intake\n",
    "        4700 <= intake(\"Potassium (K) (mg)\") \n",
    "        800 <= intake(\"Calcium (Ca) (mg)\") <= 2500 #https://en.wikipedia.org/wiki/Dietary_Reference_Intake\n",
    "        3.5*weight <= intake(\"Tryptophan (mg)\") <= 0.5*weight*1600 #0.5 * LD50 https://books.google.com.au/books?id=he7LBQAAQBAJ&pg=PA210&lpg=PA210&dq=Tryptophan+LD-50&source=bl&ots=yzi5Hx7hM2&sig=sd78LGAnavIwtT5AP-L4fzsFLZM&hl=en&sa=X&ved=0ahUKEwjJhcjFn6rQAhUKkJQKHbw6AiwQ6AEIMTAE#v=onepage&q=Tryptophan%20LD-50&f=false\n",
    "                                                #http://www.livestrong.com/article/541961-how-much-tryptophan-per-day/\n",
    "        17 <= intake(\"Linoleic acid (g)\") \n",
    "\n",
    "        45 <= intake(\"Selenium (Se) (µg)\") <= 400 #https://en.wikipedia.org/wiki/Dietary_Reference_Intake\n",
    "        11 <= intake(\"Zinc (Zn) (mg)\") <= 40 #https://en.wikipedia.org/wiki/Dietary_Reference_Intake\n",
    "            \n",
    "            \n",
    "        6 <= intake(\"Vitamin E (mg)\") <= 1_200    #https://www.livestrong.com/article/465706-vitamin-e-overdose-levels/\n",
    "            \n",
    "        1.3 <= intake(\"Vitamin B6 (mg)\") <= 300  #https://www.news-medical.net/health/Can-You-Take-Too-Much-Vitamin-B.aspx\n",
    "        2.4 <= intake(\"Vitamin B12  (µg)\")   #https://www.news-medical.net/health/Can-You-Take-Too-Much-Vitamin-B.aspx\n",
    "            \n",
    "    end)\n",
    "    \n",
    "end\n",
    "\n"
   ]
  },
  {
   "cell_type": "code",
   "execution_count": null,
   "metadata": {},
   "outputs": [],
   "source": [
    "filter(x->occursin(x, \"Vitamin B\"), String.(collect(names(nutrients))))"
   ]
  },
  {
   "cell_type": "markdown",
   "metadata": {},
   "source": [
    "### Function below is to show diet example"
   ]
  },
  {
   "cell_type": "code",
   "execution_count": null,
   "metadata": {},
   "outputs": [],
   "source": [
    "function show_diet(diet)\n",
    "    for ii in eachindex(diet)\n",
    "        amount = getvalue(diet[ii])\n",
    "        if amount > 0\n",
    "            name = nutrients[ii, Symbol(\"Food Name\")]\n",
    "            grams = round(Int, 100amount) # amount is expressed in units of 100 grams\n",
    "            display_as = grams < 1  ? \">0\" : string(grams) #Make things that are \"0.001 grams\" show as \">0 grams\"\n",
    "            println(lpad(display_as, 5, \" \"), \" grams \\t\", name)\n",
    "        end\n",
    "    end\n",
    "end\n",
    "`"
   ]
  },
  {
   "cell_type": "markdown",
   "metadata": {},
   "source": [
    "# 4. Create first example - diet with minimal needs for 62 kg person\n",
    "## Liquids are less than 25% of total body mass\n",
    "### Informations are taken from https://en.wikipedia.org/wiki/Dietary_Reference_Intake"
   ]
  },
  {
   "cell_type": "code",
   "execution_count": null,
   "metadata": {},
   "outputs": [],
   "source": [
    "m, diet = new_diet()\n",
    "basic_nutrient_requirements(m, diet);\n",
    "\n",
    "@constraint(m, diet .<= 5) # nothing more than 500g\n",
    "@constraint(m, total_intake(\"Moisture (g)\", diet) <= 0.25sum(diet)*100) # Less than 25% liquid\n",
    "\n",
    "@objective(m, Min,  \n",
    "    total_intake(\"Energy, with dietary fibre (kJ)\", diet) + 0.01sum(diet)\n",
    ")\n",
    "@show status = solve(m)\n",
    "show_diet(diet)\n",
    "\n"
   ]
  },
  {
   "cell_type": "markdown",
   "metadata": {},
   "source": [
    "# 5. Create second example - diet for endurance athlete weighing 70 kg\n",
    "## Maximizing protein intake is included\n",
    "### based on articles from https://www.nal.usda.gov/fnic/dri-tables-and-application-reports\n",
    "### recommendation for man 19-30 years old"
   ]
  },
  {
   "cell_type": "code",
   "execution_count": null,
   "metadata": {},
   "outputs": [],
   "source": [
    "function endurance_athlete_requirements(m::Model, diet, weight = 70) # his weight is 70 kg\n",
    "    intake(nutrient_name) = total_intake(nutrient_name, diet) \n",
    "    # ^ closure over the diet given as an argument\n",
    "        \n",
    "    @constraints(m, begin\n",
    "        91 <= intake(\"Protein (g)\") \n",
    "        70 <= intake(\"Total fat (g)\") \n",
    "        24 <= intake(\"Total saturated fat (g)\") \n",
    "        70 <= intake(\"Total sugars (g)\") \n",
    "        intake(\"Alcohol (g)\") <= 0\n",
    "        350 <= intake(\"Available carbohydrates, with sugar alcohols (g)\") \n",
    "        intake(\"Sodium (Na) (mg)\") <= 2300 # Heart Council\n",
    "        intake(\"Caffeine (mg)\") <= 400\n",
    "        25 <=intake(\"Dietary fibre (g)\") \n",
    "        24 <= intake(\"Total trans fatty acids (mg)\") \n",
    "        900 <= intake(\"Vitamin A retinol equivalents (µg)\") <= 3000\n",
    "        1.2 <= intake(\"Thiamin (B1) (mg)\") \n",
    "        400 <= intake(\"Dietary folate equivalents  (µg)\") \n",
    "        1000 <= intake(\"Folic acid  (µg)\") # https://ods.od.nih.gov/factsheets/Folate-HealthProfessional/\n",
    "        75 <= intake(\"Vitamin C (mg)\") <= 2000 ##https://en.wikipedia.org/wiki/Dietary_Reference_Intake\n",
    "        #600 <= intake(\"Vitamin D (IU)\") <= 4000\n",
    "        95 <= intake(\"Iodine (I) (µg)\") <=1100 ##https://en.wikipedia.org/wiki/Dietary_Reference_Intake\n",
    "        6 <= intake(\"Iron (Fe) (mg)\") <= 45 # #https://en.wikipedia.org/wiki/Dietary_Reference_Intake\n",
    "        330 <= intake(\"Magnesium (Mg) (mg)\") \n",
    "        580 <= intake(\"Phosphorus (P) (mg)\") <= 4000 #https://en.wikipedia.org/wiki/Dietary_Reference_Intake\n",
    "        4700 <= intake(\"Potassium (K) (mg)\") \n",
    "        800 <= intake(\"Calcium (Ca) (mg)\") <= 2500 #https://en.wikipedia.org/wiki/Dietary_Reference_Intake\n",
    "        3.5*weight <= intake(\"Tryptophan (mg)\") <= 0.5*weight*1600 #0.5 * LD50 https://books.google.com.au/books?id=he7LBQAAQBAJ&pg=PA210&lpg=PA210&dq=Tryptophan+LD-50&source=bl&ots=yzi5Hx7hM2&sig=sd78LGAnavIwtT5AP-L4fzsFLZM&hl=en&sa=X&ved=0ahUKEwjJhcjFn6rQAhUKkJQKHbw6AiwQ6AEIMTAE#v=onepage&q=Tryptophan%20LD-50&f=false\n",
    "                                                #http://www.livestrong.com/article/541961-how-much-tryptophan-per-day/\n",
    "        17 <= intake(\"Linoleic acid (g)\")\n",
    "        #550 <= intake(\"Choline (g)\")\n",
    "        #16 <= intake(\"Niacin (g)\")\n",
    "        #5 <= intake(\"Patothenic Acid (mg)\")\n",
    "        \n",
    "        45 <= intake(\"Selenium (Se) (µg)\") <= 400 #https://en.wikipedia.org/wiki/Dietary_Reference_Intake\n",
    "        11 <= intake(\"Zinc (Zn) (mg)\") <= 40 #https://en.wikipedia.org/wiki/Dietary_Reference_Intake\n",
    "            \n",
    "            \n",
    "        15 <= intake(\"Vitamin E (mg)\") <= 1000    #https://www.livestrong.com/article/465706-vitamin-e-overdose-levels/\n",
    "        #120 <= intake(\"Vitamin K (µg)\") \n",
    "            \n",
    "        1.3 <= intake(\"Vitamin B6 (mg)\") <= 100  #https://www.news-medical.net/health/Can-You-Take-Too-Much-Vitamin-B.aspx\n",
    "        2.4 <= intake(\"Vitamin B12  (µg)\")   #https://www.news-medical.net/health/Can-You-Take-Too-Much-Vitamin-B.aspx\n",
    "        #1.3 <= intake(\"Vitamin B2 (mg)\")\n",
    "        \n",
    "    end)\n",
    "    \n",
    "end"
   ]
  },
  {
   "cell_type": "code",
   "execution_count": null,
   "metadata": {},
   "outputs": [],
   "source": [
    "m, diet = new_diet()\n",
    "endurance_athlete_requirements(m, diet);\n",
    "forbid_liquids(m, diet)\n",
    "@constraint(m, diet .<= 3) # nothing more than 300g\n",
    "\n",
    "\n",
    "@constraint(m,\n",
    "    9_000 <=\n",
    "        total_intake(\"Energy, with dietary fibre (kJ)\", diet)\n",
    "    <= 12_000\n",
    "    )\n",
    "@objective(m, Max,  \n",
    "    total_intake(\"Protein (g)\", diet)\n",
    ")\n",
    "@show status = solve(m)\n",
    "show_diet(diet)"
   ]
  },
  {
   "cell_type": "markdown",
   "metadata": {},
   "source": [
    "# 6. Create third example - diet for 20 travelling people\n",
    "## Included minimal weight of food\n",
    "### Function is exactly the same as in example 1"
   ]
  },
  {
   "cell_type": "code",
   "execution_count": null,
   "metadata": {},
   "outputs": [],
   "source": [
    "function total_intake(nutrient_name, diet)\n",
    "    nutrients[:, Symbol(nutrient_name)] ⋅ diet\n",
    "end\n",
    "\n",
    "function basic_nutrient_group(m::Model, diet, weight = 62) # average human is 62 kg\n",
    "    intake(nutrient_name) = total_intake(nutrient_name, diet) \n",
    "    # ^ closure over the diet given as an argument\n",
    "        \n",
    "    @constraints(m, begin\n",
    "        70 <= intake(\"Protein (g)\") \n",
    "        70 <= intake(\"Total fat (g)\") \n",
    "        24 <= intake(\"Total saturated fat (g)\") \n",
    "        90 <= intake(\"Total sugars (g)\") \n",
    "        intake(\"Alcohol (g)\") <= 100\n",
    "        310 <= intake(\"Available carbohydrates, with sugar alcohols (g)\") \n",
    "        intake(\"Sodium (Na) (mg)\") <= 2300 # Heart Council\n",
    "        intake(\"Caffeine (mg)\") <= 400\n",
    "        25 <=intake(\"Dietary fibre (g)\") \n",
    "        24 <= intake(\"Total trans fatty acids (mg)\") \n",
    "        25 <= intake(\"Vitamin A retinol equivalents (µg)\") <= 900\n",
    "        1.2 <= intake(\"Thiamin (B1) (mg)\") \n",
    "        400 <= intake(\"Dietary folate equivalents  (µg)\") \n",
    "        1000 <= intake(\"Folic acid  (µg)\") # https://ods.od.nih.gov/factsheets/Folate-HealthProfessional/\n",
    "        75 <= intake(\"Vitamin C (mg)\") <= 2000 ##https://en.wikipedia.org/wiki/Dietary_Reference_Intake\n",
    "        95 <= intake(\"Iodine (I) (µg)\") <=1100 ##https://en.wikipedia.org/wiki/Dietary_Reference_Intake\n",
    "        6 <= intake(\"Iron (Fe) (mg)\") <= 45 # #https://en.wikipedia.org/wiki/Dietary_Reference_Intake\n",
    "        330 <= intake(\"Magnesium (Mg) (mg)\") \n",
    "        580 <= intake(\"Phosphorus (P) (mg)\") <= 4000 #https://en.wikipedia.org/wiki/Dietary_Reference_Intake\n",
    "        4700 <= intake(\"Potassium (K) (mg)\") \n",
    "        800 <= intake(\"Calcium (Ca) (mg)\") <= 2500 #https://en.wikipedia.org/wiki/Dietary_Reference_Intake\n",
    "        3.5*weight <= intake(\"Tryptophan (mg)\") <= 0.5*weight*1600 #0.5 * LD50 https://books.google.com.au/books?id=he7LBQAAQBAJ&pg=PA210&lpg=PA210&dq=Tryptophan+LD-50&source=bl&ots=yzi5Hx7hM2&sig=sd78LGAnavIwtT5AP-L4fzsFLZM&hl=en&sa=X&ved=0ahUKEwjJhcjFn6rQAhUKkJQKHbw6AiwQ6AEIMTAE#v=onepage&q=Tryptophan%20LD-50&f=false\n",
    "                                                #http://www.livestrong.com/article/541961-how-much-tryptophan-per-day/\n",
    "        17 <= intake(\"Linoleic acid (g)\") \n",
    "\n",
    "        45 <= intake(\"Selenium (Se) (µg)\") <= 400 #https://en.wikipedia.org/wiki/Dietary_Reference_Intake\n",
    "        11 <= intake(\"Zinc (Zn) (mg)\") <= 40 #https://en.wikipedia.org/wiki/Dietary_Reference_Intake\n",
    "            \n",
    "            \n",
    "        6 <= intake(\"Vitamin E (mg)\") <= 1_200    #https://www.livestrong.com/article/465706-vitamin-e-overdose-levels/\n",
    "            \n",
    "        1.3 <= intake(\"Vitamin B6 (mg)\") <= 300  #https://www.news-medical.net/health/Can-You-Take-Too-Much-Vitamin-B.aspx\n",
    "        2.4 <= intake(\"Vitamin B12  (µg)\")   #https://www.news-medical.net/health/Can-You-Take-Too-Much-Vitamin-B.aspx\n",
    "            \n",
    "    end)\n",
    "    \n",
    "end"
   ]
  },
  {
   "cell_type": "code",
   "execution_count": null,
   "metadata": {},
   "outputs": [],
   "source": [
    "m, diet = new_diet()\n",
    "basic_nutrient_group(m, diet);\n",
    "forbid_liquids(m, diet)\n",
    "\n",
    "@constraint(m, diet .<= 5) # nothing more than 500g\n",
    "@constraint(m, total_intake(\"Moisture (g)\", diet) <= 0.25sum(diet)*100) # Less than 25% liquid\n",
    "\n",
    "# @objective(m, Min,  \n",
    "#      total_intake(\"Energy, with dietary fibre (kJ)\", diet) + 0.01sum(diet)\n",
    "#  )\n",
    "@objective(m, Min, sum(diet))\n",
    "@show status = solve(m)\n",
    "show_diet(diet*20)\n",
    "\n",
    "println(\"Total: $(round(Int, 100sum(getvalue(diet)))) grams\")"
   ]
  },
  {
   "cell_type": "markdown",
   "metadata": {},
   "source": [
    "# References:\n",
    "### https://en.wikipedia.org/wiki/Dietary_Reference_Intake\n",
    "### https://white.ucc.asn.au/2018/05/28/Optimizing-your-diet-with-JuMP.html\n",
    "### https://neos-guide.org/content/diet-problem\n",
    "### https://www.nal.usda.gov/fnic/dri-tables-and-application-reports\n",
    "### https://github.com/JuliaOpt/JuMP.jl"
   ]
  },
  {
   "cell_type": "code",
   "execution_count": null,
   "metadata": {},
   "outputs": [],
   "source": []
  }
 ],
 "metadata": {
  "kernelspec": {
   "display_name": "Julia 1.0.3 (4 threads)",
   "language": "julia",
   "name": "julia-1.0k"
  },
  "language_info": {
   "file_extension": ".jl",
   "mimetype": "application/julia",
   "name": "julia",
   "version": "1.0.3"
  }
 },
 "nbformat": 4,
 "nbformat_minor": 2
}
