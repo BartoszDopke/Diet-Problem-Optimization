{
 "cells": [
  {
   "cell_type": "code",
   "execution_count": 1,
   "metadata": {},
   "outputs": [
    {
     "name": "stdout",
     "output_type": "stream",
     "text": [
      "\u001b[32m\u001b[1m Resolving\u001b[22m\u001b[39m package versions...\n",
      "\u001b[32m\u001b[1m  Updating\u001b[22m\u001b[39m `~/.julia/Project.toml`\n",
      "\u001b[90m [no changes]\u001b[39m\n",
      "\u001b[32m\u001b[1m  Updating\u001b[22m\u001b[39m `~/.julia/Manifest.toml`\n",
      "\u001b[90m [no changes]\u001b[39m\n"
     ]
    }
   ],
   "source": [
    "using JuMP\n",
    "using GLPKMathProgInterface\n",
    "\n",
    "Pkg.add(\"DataDeps\")"
   ]
  },
  {
   "cell_type": "code",
   "execution_count": null,
   "metadata": {},
   "outputs": [],
   "source": [
    "\n"
   ]
  },
  {
   "cell_type": "code",
   "execution_count": 2,
   "metadata": {},
   "outputs": [
    {
     "name": "stdout",
     "output_type": "stream",
     "text": [
      "\u001b[32m\u001b[1m Resolving\u001b[22m\u001b[39m package versions...\n",
      "\u001b[32m\u001b[1m  Updating\u001b[22m\u001b[39m `~/.julia/Project.toml`\n",
      "\u001b[90m [no changes]\u001b[39m\n",
      "\u001b[32m\u001b[1m  Updating\u001b[22m\u001b[39m `~/.julia/Manifest.toml`\n",
      "\u001b[90m [no changes]\u001b[39m\n"
     ]
    }
   ],
   "source": [
    "Pkg.add(\"ExcelFiles\")\n"
   ]
  },
  {
   "cell_type": "code",
   "execution_count": 3,
   "metadata": {},
   "outputs": [
    {
     "name": "stdout",
     "output_type": "stream",
     "text": [
      "\u001b[32m\u001b[1m Resolving\u001b[22m\u001b[39m package versions...\n",
      "\u001b[32m\u001b[1m  Updating\u001b[22m\u001b[39m `~/.julia/Project.toml`\n",
      "\u001b[90m [no changes]\u001b[39m\n",
      "\u001b[32m\u001b[1m  Updating\u001b[22m\u001b[39m `~/.julia/Manifest.toml`\n",
      "\u001b[90m [no changes]\u001b[39m\n"
     ]
    }
   ],
   "source": [
    "Pkg.add(\"DataFrames\")"
   ]
  },
  {
   "cell_type": "code",
   "execution_count": 4,
   "metadata": {},
   "outputs": [],
   "source": [
    "using DataDeps\n",
    "\n",
    "register(DataDep(\n",
    "    \"AUSNUT Food Nutrient Database\",\n",
    "    \"\"\"\n",
    "        Website: http://www.foodstandards.gov.au/science/monitoringnutrients/\n",
    "        Excel spreedsheet of food nutrient values prepared by Food Standard Australia New Zealand, between 2011 and 2013.\n",
    "    \"\"\",\n",
    "    \"http://www.foodstandards.gov.au/science/monitoringnutrients/ausnut/Documents/8b.%20AUSNUT%202011-13%20AHS%20Food%20Nutrient%20Database.xls\",\n",
    "     \"4bac90de8ab2673a2f9b19f0be4c822aac1832ed8314117666e5464ed57cb544\"\n",
    "        ;\n",
    "    post_fetch_method = (fn)->mv(fn, \"database.xls\")\n",
    "));\n"
   ]
  },
  {
   "cell_type": "code",
   "execution_count": 5,
   "metadata": {},
   "outputs": [
    {
     "data": {
      "text/html": [
       "<table class=\"data-frame\"><thead><tr><th></th><th>Food ID</th><th>Survey ID</th><th>Food Name</th><th>Survey flag</th><th>Energy, with dietary fibre (kJ)</th><th>Energy, without dietary fibre (kJ)</th><th>Moisture (g)</th><th>Protein (g)</th><th>Total fat (g)</th><th>Available carbohydrates, with sugar alcohols (g)</th><th>Available carbohydrates, without sugar alcohol (g)</th><th>Starch (g)</th><th>Total sugars (g)</th><th>Added sugars (g)</th><th>Free sugars (g)</th><th>Dietary fibre (g)</th><th>Alcohol (g)</th><th>Ash (g)</th><th>Preformed vitamin A (retinol) (µg)</th><th>Beta-carotene (µg)</th><th>Provitamin A (b-carotene equivalents) (µg)</th><th>Vitamin A retinol equivalents (µg)</th><th>Thiamin (B1) (mg)</th><th>Riboflavin (B2) (mg)</th><th>Niacin (B3) (mg)</th><th>Niacin derived equivalents (mg)</th><th>Folate, natural  (µg)</th><th>Folic acid  (µg)</th><th>Total Folates  (µg)</th><th>Dietary folate equivalents  (µg)</th><th>Vitamin B6 (mg)</th><th>Vitamin B12  (µg)</th><th>Vitamin C (mg)</th><th>Alpha-tocopherol (mg)</th><th>Vitamin E (mg)</th><th>Calcium (Ca) (mg)</th><th>Iodine (I) (µg)</th><th>Iron (Fe) (mg)</th><th>Magnesium (Mg) (mg)</th><th>Phosphorus (P) (mg)</th><th>Potassium (K) (mg)</th><th>Selenium (Se) (µg)</th><th>Sodium (Na) (mg)</th><th>Zinc (Zn) (mg)</th><th>Caffeine (mg)</th><th>Cholesterol (mg)</th><th>Tryptophan (mg)</th><th>Total saturated fat (g)</th><th>Total monounsaturated fat (g)</th><th>Total polyunsaturated fat (g)</th><th>Linoleic acid (g)</th><th>Alpha-linolenic acid (g)</th><th>C20:5w3 Eicosapentaenoic (mg)</th><th>C22:5w3 Docosapentaenoic (mg)</th><th>C22:6w3 Docosahexaenoic (mg)</th><th>Total long chain omega 3 fatty acids (mg)</th><th>Total trans fatty acids (mg)</th></tr><tr><th></th><th>String</th><th>Float64</th><th>String</th><th>Any</th><th>Float64</th><th>Float64</th><th>Float64</th><th>Float64</th><th>Float64</th><th>Float64</th><th>Float64</th><th>Float64</th><th>Float64</th><th>Float64</th><th>Float64</th><th>Float64</th><th>Float64</th><th>Float64</th><th>Float64</th><th>Float64</th><th>Float64</th><th>Float64</th><th>Float64</th><th>Float64</th><th>Float64</th><th>Float64</th><th>Float64</th><th>Float64</th><th>Float64</th><th>Float64</th><th>Float64</th><th>Float64</th><th>Float64</th><th>Float64</th><th>Float64</th><th>Float64</th><th>Float64</th><th>Float64</th><th>Float64</th><th>Float64</th><th>Float64</th><th>Float64</th><th>Float64</th><th>Float64</th><th>Float64</th><th>Float64</th><th>Float64</th><th>Float64</th><th>Float64</th><th>Float64</th><th>Float64</th><th>Float64</th><th>Float64</th><th>Float64</th><th>Float64</th><th>Float64</th><th>Float64</th></tr></thead><tbody><p>4 rows × 57 columns</p><tr><th>1</th><td>10F40019</td><td>3.1103e7</td><td>Beef, extract, bonox</td><td>missing</td><td>401.0</td><td>401.0</td><td>56.6</td><td>16.6</td><td>0.2</td><td>6.5</td><td>6.5</td><td>6.5</td><td>0.0</td><td>0.0</td><td>0.0</td><td>0.0</td><td>0.0</td><td>19.8</td><td>0.0</td><td>0.0</td><td>0.0</td><td>0.0</td><td>0.36</td><td>0.27</td><td>5.4</td><td>7.71</td><td>6.0</td><td>0.0</td><td>6.0</td><td>6.0</td><td>0.23</td><td>8.0</td><td>0.0</td><td>0.6</td><td>0.6</td><td>110.0</td><td>9.1</td><td>2.0</td><td>60.0</td><td>360.0</td><td>690.0</td><td>4.0</td><td>6660.0</td><td>1.5</td><td>0.0</td><td>0.0</td><td>136.0</td><td>0.0</td><td>0.0</td><td>0.0</td><td>0.0</td><td>0.0</td><td>0.0</td><td>0.0</td><td>0.0</td><td>0.0</td><td>0.0</td></tr><tr><th>2</th><td>13A12001</td><td>3.1302e7</td><td>Basil, dried</td><td>missing</td><td>1079.0</td><td>774.0</td><td>10.0</td><td>18.2</td><td>5.5</td><td>15.5</td><td>15.5</td><td>15.5</td><td>0.0</td><td>0.0</td><td>0.0</td><td>38.2</td><td>0.0</td><td>15.5</td><td>0.0</td><td>27135.0</td><td>27334.0</td><td>4556.0</td><td>0.327</td><td>1.9</td><td>7.79</td><td>11.62</td><td>436.0</td><td>0.0</td><td>436.0</td><td>436.0</td><td>1.34</td><td>0.0</td><td>337.0</td><td>6.9</td><td>6.91</td><td>2091.0</td><td>57.0</td><td>16.36</td><td>273.0</td><td>291.0</td><td>3818.0</td><td>2.7</td><td>118.0</td><td>17.27</td><td>0.0</td><td>0.0</td><td>225.0</td><td>2.36</td><td>1.4</td><td>0.61</td><td>0.26</td><td>0.34</td><td>0.0</td><td>0.0</td><td>0.0</td><td>0.0</td><td>0.0</td></tr><tr><th>3</th><td>10E10113</td><td>3.1302e7</td><td>Cardamom, seeds, ground</td><td>missing</td><td>1333.0</td><td>1109.0</td><td>8.3</td><td>10.8</td><td>6.7</td><td>40.5</td><td>40.5</td><td>31.0</td><td>9.5</td><td>0.0</td><td>0.0</td><td>28.0</td><td>0.0</td><td>5.8</td><td>0.0</td><td>0.0</td><td>0.0</td><td>0.0</td><td>0.198</td><td>0.182</td><td>1.1</td><td>3.74</td><td>0.0</td><td>0.0</td><td>0.0</td><td>0.0</td><td>0.23</td><td>0.0</td><td>21.0</td><td>0.5</td><td>0.5</td><td>383.0</td><td>0.5</td><td>13.97</td><td>229.0</td><td>178.0</td><td>1119.0</td><td>0.5</td><td>18.0</td><td>7.47</td><td>0.0</td><td>0.0</td><td>155.0</td><td>2.2</td><td>2.81</td><td>1.39</td><td>1.0</td><td>0.39</td><td>0.0</td><td>0.0</td><td>0.0</td><td>0.0</td><td>0.0</td></tr><tr><th>4</th><td>10E10098</td><td>3.1302e7</td><td>Chilli (chili) powder</td><td>missing</td><td>1441.0</td><td>1167.0</td><td>7.8</td><td>12.3</td><td>16.8</td><td>20.5</td><td>20.5</td><td>10.4</td><td>10.1</td><td>0.0</td><td>0.0</td><td>34.2</td><td>0.0</td><td>11.8</td><td>0.0</td><td>15000.0</td><td>17790.0</td><td>2965.0</td><td>0.35</td><td>0.79</td><td>7.9</td><td>8.98</td><td>9.0</td><td>0.0</td><td>9.0</td><td>9.0</td><td>2.09</td><td>0.0</td><td>0.0</td><td>38.1</td><td>38.14</td><td>278.0</td><td>0.5</td><td>14.3</td><td>170.0</td><td>303.0</td><td>1920.0</td><td>20.4</td><td>1010.0</td><td>2.7</td><td>0.0</td><td>0.0</td><td>64.0</td><td>2.41</td><td>3.15</td><td>7.85</td><td>7.32</td><td>0.52</td><td>0.0</td><td>0.0</td><td>0.0</td><td>0.0</td><td>0.0</td></tr></tbody></table>"
      ],
      "text/latex": [
       "\\begin{tabular}{r|ccccccccccccccccccccccccccccccccccccccccccccccccccccccccc}\n",
       "\t& Food ID & Survey ID & Food Name & Survey flag & Energy, with dietary fibre (kJ) & Energy, without dietary fibre (kJ) & Moisture (g) & Protein (g) & Total fat (g) & Available carbohydrates, with sugar alcohols (g) & Available carbohydrates, without sugar alcohol (g) & Starch (g) & Total sugars (g) & Added sugars (g) & Free sugars (g) & Dietary fibre (g) & Alcohol (g) & Ash (g) & Preformed vitamin A (retinol) (µg) & Beta-carotene (µg) & Provitamin A (b-carotene equivalents) (µg) & Vitamin A retinol equivalents (µg) & Thiamin (B1) (mg) & Riboflavin (B2) (mg) & Niacin (B3) (mg) & Niacin derived equivalents (mg) & Folate, natural  (µg) & Folic acid  (µg) & Total Folates  (µg) & Dietary folate equivalents  (µg) & Vitamin B6 (mg) & Vitamin B12  (µg) & Vitamin C (mg) & Alpha-tocopherol (mg) & Vitamin E (mg) & Calcium (Ca) (mg) & Iodine (I) (µg) & Iron (Fe) (mg) & Magnesium (Mg) (mg) & Phosphorus (P) (mg) & Potassium (K) (mg) & Selenium (Se) (µg) & Sodium (Na) (mg) & Zinc (Zn) (mg) & Caffeine (mg) & Cholesterol (mg) & Tryptophan (mg) & Total saturated fat (g) & Total monounsaturated fat (g) & Total polyunsaturated fat (g) & Linoleic acid (g) & Alpha-linolenic acid (g) & C20:5w3 Eicosapentaenoic (mg) & C22:5w3 Docosapentaenoic (mg) & C22:6w3 Docosahexaenoic (mg) & Total long chain omega 3 fatty acids (mg) & Total trans fatty acids (mg)\\\\\n",
       "\t\\hline\n",
       "\t& String & Float64 & String & Any & Float64 & Float64 & Float64 & Float64 & Float64 & Float64 & Float64 & Float64 & Float64 & Float64 & Float64 & Float64 & Float64 & Float64 & Float64 & Float64 & Float64 & Float64 & Float64 & Float64 & Float64 & Float64 & Float64 & Float64 & Float64 & Float64 & Float64 & Float64 & Float64 & Float64 & Float64 & Float64 & Float64 & Float64 & Float64 & Float64 & Float64 & Float64 & Float64 & Float64 & Float64 & Float64 & Float64 & Float64 & Float64 & Float64 & Float64 & Float64 & Float64 & Float64 & Float64 & Float64 & Float64\\\\\n",
       "\t\\hline\n",
       "\t1 & 10F40019 & 3.1103e7 & Beef, extract, bonox &  & 401.0 & 401.0 & 56.6 & 16.6 & 0.2 & 6.5 & 6.5 & 6.5 & 0.0 & 0.0 & 0.0 & 0.0 & 0.0 & 19.8 & 0.0 & 0.0 & 0.0 & 0.0 & 0.36 & 0.27 & 5.4 & 7.71 & 6.0 & 0.0 & 6.0 & 6.0 & 0.23 & 8.0 & 0.0 & 0.6 & 0.6 & 110.0 & 9.1 & 2.0 & 60.0 & 360.0 & 690.0 & 4.0 & 6660.0 & 1.5 & 0.0 & 0.0 & 136.0 & 0.0 & 0.0 & 0.0 & 0.0 & 0.0 & 0.0 & 0.0 & 0.0 & 0.0 & 0.0 \\\\\n",
       "\t2 & 13A12001 & 3.1302e7 & Basil, dried &  & 1079.0 & 774.0 & 10.0 & 18.2 & 5.5 & 15.5 & 15.5 & 15.5 & 0.0 & 0.0 & 0.0 & 38.2 & 0.0 & 15.5 & 0.0 & 27135.0 & 27334.0 & 4556.0 & 0.327 & 1.9 & 7.79 & 11.62 & 436.0 & 0.0 & 436.0 & 436.0 & 1.34 & 0.0 & 337.0 & 6.9 & 6.91 & 2091.0 & 57.0 & 16.36 & 273.0 & 291.0 & 3818.0 & 2.7 & 118.0 & 17.27 & 0.0 & 0.0 & 225.0 & 2.36 & 1.4 & 0.61 & 0.26 & 0.34 & 0.0 & 0.0 & 0.0 & 0.0 & 0.0 \\\\\n",
       "\t3 & 10E10113 & 3.1302e7 & Cardamom, seeds, ground &  & 1333.0 & 1109.0 & 8.3 & 10.8 & 6.7 & 40.5 & 40.5 & 31.0 & 9.5 & 0.0 & 0.0 & 28.0 & 0.0 & 5.8 & 0.0 & 0.0 & 0.0 & 0.0 & 0.198 & 0.182 & 1.1 & 3.74 & 0.0 & 0.0 & 0.0 & 0.0 & 0.23 & 0.0 & 21.0 & 0.5 & 0.5 & 383.0 & 0.5 & 13.97 & 229.0 & 178.0 & 1119.0 & 0.5 & 18.0 & 7.47 & 0.0 & 0.0 & 155.0 & 2.2 & 2.81 & 1.39 & 1.0 & 0.39 & 0.0 & 0.0 & 0.0 & 0.0 & 0.0 \\\\\n",
       "\t4 & 10E10098 & 3.1302e7 & Chilli (chili) powder &  & 1441.0 & 1167.0 & 7.8 & 12.3 & 16.8 & 20.5 & 20.5 & 10.4 & 10.1 & 0.0 & 0.0 & 34.2 & 0.0 & 11.8 & 0.0 & 15000.0 & 17790.0 & 2965.0 & 0.35 & 0.79 & 7.9 & 8.98 & 9.0 & 0.0 & 9.0 & 9.0 & 2.09 & 0.0 & 0.0 & 38.1 & 38.14 & 278.0 & 0.5 & 14.3 & 170.0 & 303.0 & 1920.0 & 20.4 & 1010.0 & 2.7 & 0.0 & 0.0 & 64.0 & 2.41 & 3.15 & 7.85 & 7.32 & 0.52 & 0.0 & 0.0 & 0.0 & 0.0 & 0.0 \\\\\n",
       "\\end{tabular}\n"
      ],
      "text/plain": [
       "4×57 DataFrame. Omitted printing of 53 columns\n",
       "│ Row │ Food ID  │ Survey ID │ Food Name               │ Survey flag │\n",
       "│     │ \u001b[90mString\u001b[39m   │ \u001b[90mFloat64\u001b[39m   │ \u001b[90mString\u001b[39m                  │ \u001b[90mAny\u001b[39m         │\n",
       "├─────┼──────────┼───────────┼─────────────────────────┼─────────────┤\n",
       "│ 1   │ 10F40019 │ 3.1103e7  │ Beef, extract, bonox    │ \u001b[90mmissing\u001b[39m     │\n",
       "│ 2   │ 13A12001 │ 3.1302e7  │ Basil, dried            │ \u001b[90mmissing\u001b[39m     │\n",
       "│ 3   │ 10E10113 │ 3.1302e7  │ Cardamom, seeds, ground │ \u001b[90mmissing\u001b[39m     │\n",
       "│ 4   │ 10E10098 │ 3.1302e7  │ Chilli (chili) powder   │ \u001b[90mmissing\u001b[39m     │"
      ]
     },
     "execution_count": 5,
     "metadata": {},
     "output_type": "execute_result"
    }
   ],
   "source": [
    "\n",
    "\n",
    "using ExcelFiles, DataFrames\n",
    "\n",
    "const nutrients = DataFrame(load(\"ausnut.xls\", \"Food Nutrient Database\"))\n",
    "nutrients[1:4,:]\n",
    "\n"
   ]
  },
  {
   "cell_type": "code",
   "execution_count": 6,
   "metadata": {},
   "outputs": [],
   "source": [
    "#nutrients[:, Symbol(\"Protein (g)\")] "
   ]
  },
  {
   "cell_type": "code",
   "execution_count": 7,
   "metadata": {},
   "outputs": [],
   "source": [
    "#nutrients[1, Symbol(\"Protein (g)\")]\n",
    "\n"
   ]
  },
  {
   "cell_type": "code",
   "execution_count": 8,
   "metadata": {},
   "outputs": [
    {
     "data": {
      "text/plain": [
       "new_diet (generic function with 2 methods)"
      ]
     },
     "execution_count": 8,
     "metadata": {},
     "output_type": "execute_result"
    }
   ],
   "source": [
    "using JuMP\n",
    "using LinearAlgebra\n",
    "function new_diet(solver = GLPKSolverLP())\n",
    "    m = Model(solver= solver)\n",
    "    @variable(m, diet[1:size(nutrients,1)], lowerbound=0)\n",
    "    m, diet \n",
    "end\n",
    "\n"
   ]
  },
  {
   "cell_type": "code",
   "execution_count": 9,
   "metadata": {},
   "outputs": [
    {
     "data": {
      "text/plain": [
       "basic_nutrient_requirements (generic function with 2 methods)"
      ]
     },
     "execution_count": 9,
     "metadata": {},
     "output_type": "execute_result"
    }
   ],
   "source": [
    "function total_intake(nutrient_name, diet)\n",
    "    nutrients[:, Symbol(nutrient_name)] ⋅ diet\n",
    "end\n",
    "\n",
    "function basic_nutrient_requirements(m::Model, diet, weight = 62) # average human is 62 kg\n",
    "    intake(nutrient_name) = total_intake(nutrient_name, diet) \n",
    "    # ^ closure over the diet given as an argument\n",
    "        \n",
    "    @constraints(m, begin\n",
    "        70 <= intake(\"Protein (g)\") \n",
    "        70 <= intake(\"Total fat (g)\") \n",
    "        24 <= intake(\"Total saturated fat (g)\") \n",
    "        90 <= intake(\"Total sugars (g)\") \n",
    "        intake(\"Alcohol (g)\") <= 100\n",
    "        310 <= intake(\"Available carbohydrates, with sugar alcohols (g)\") \n",
    "        intake(\"Sodium (Na) (mg)\") <= 2300 # Heart Council\n",
    "        intake(\"Caffeine (mg)\") <= 400\n",
    "        25 <=intake(\"Dietary fibre (g)\") \n",
    "        24 <= intake(\"Total trans fatty acids (mg)\") \n",
    "        25 <= intake(\"Vitamin A retinol equivalents (µg)\") <= 900\n",
    "        1.2 <= intake(\"Thiamin (B1) (mg)\") \n",
    "        400 <= intake(\"Dietary folate equivalents  (µg)\") \n",
    "        1000 <= intake(\"Folic acid  (µg)\") # https://ods.od.nih.gov/factsheets/Folate-HealthProfessional/\n",
    "        75 <= intake(\"Vitamin C (mg)\") <= 2000 ##https://en.wikipedia.org/wiki/Dietary_Reference_Intake\n",
    "        95 <= intake(\"Iodine (I) (µg)\") <=1100 ##https://en.wikipedia.org/wiki/Dietary_Reference_Intake\n",
    "        6 <= intake(\"Iron (Fe) (mg)\") <= 45 # #https://en.wikipedia.org/wiki/Dietary_Reference_Intake\n",
    "        330 <= intake(\"Magnesium (Mg) (mg)\") \n",
    "        580 <= intake(\"Phosphorus (P) (mg)\") <= 4000 #https://en.wikipedia.org/wiki/Dietary_Reference_Intake\n",
    "        4700 <= intake(\"Potassium (K) (mg)\") \n",
    "        800 <= intake(\"Calcium (Ca) (mg)\") <= 2500 #https://en.wikipedia.org/wiki/Dietary_Reference_Intake\n",
    "        3.5*weight <= intake(\"Tryptophan (mg)\") <= 0.5*weight*1600 #0.5 * LD50 https://books.google.com.au/books?id=he7LBQAAQBAJ&pg=PA210&lpg=PA210&dq=Tryptophan+LD-50&source=bl&ots=yzi5Hx7hM2&sig=sd78LGAnavIwtT5AP-L4fzsFLZM&hl=en&sa=X&ved=0ahUKEwjJhcjFn6rQAhUKkJQKHbw6AiwQ6AEIMTAE#v=onepage&q=Tryptophan%20LD-50&f=false\n",
    "                                                #http://www.livestrong.com/article/541961-how-much-tryptophan-per-day/\n",
    "        17 <= intake(\"Linoleic acid (g)\") \n",
    "\n",
    "        45 <= intake(\"Selenium (Se) (µg)\") <= 400 #https://en.wikipedia.org/wiki/Dietary_Reference_Intake\n",
    "        11 <= intake(\"Zinc (Zn) (mg)\") <= 40 #https://en.wikipedia.org/wiki/Dietary_Reference_Intake\n",
    "            \n",
    "            \n",
    "        6 <= intake(\"Vitamin E (mg)\") <= 1_200    #https://www.livestrong.com/article/465706-vitamin-e-overdose-levels/\n",
    "            \n",
    "        1.3 <= intake(\"Vitamin B6 (mg)\") <= 300  #https://www.news-medical.net/health/Can-You-Take-Too-Much-Vitamin-B.aspx\n",
    "        2.4 <= intake(\"Vitamin B12  (µg)\")   #https://www.news-medical.net/health/Can-You-Take-Too-Much-Vitamin-B.aspx\n",
    "            \n",
    "    end)\n",
    "    \n",
    "end\n",
    "\n"
   ]
  },
  {
   "cell_type": "code",
   "execution_count": 10,
   "metadata": {},
   "outputs": [
    {
     "data": {
      "text/plain": [
       "0-element Array{String,1}"
      ]
     },
     "execution_count": 10,
     "metadata": {},
     "output_type": "execute_result"
    }
   ],
   "source": [
    "\n",
    "\n",
    "filter(x->occursin(x, \"Vitamin B\"), String.(collect(names(nutrients))))\n",
    "\n"
   ]
  },
  {
   "cell_type": "code",
   "execution_count": 11,
   "metadata": {},
   "outputs": [
    {
     "data": {
      "text/plain": [
       "show_diet (generic function with 1 method)"
      ]
     },
     "execution_count": 11,
     "metadata": {},
     "output_type": "execute_result"
    }
   ],
   "source": [
    "function show_diet(diet)\n",
    "    for ii in eachindex(diet)\n",
    "        amount = getvalue(diet[ii])\n",
    "        if amount > 0\n",
    "            name = nutrients[ii, Symbol(\"Food Name\")]\n",
    "            grams = round(Int, 100amount) # amount is expressed in units of 100 grams\n",
    "            display_as = grams < 1  ? \">0\" : string(grams) #Make things that are \"0.001 grams\" show as \">0 grams\"\n",
    "            println(lpad(display_as, 5, \" \"), \" grams \\t\", name)\n",
    "        end\n",
    "    end\n",
    "end\n",
    "\n"
   ]
  },
  {
   "cell_type": "markdown",
   "metadata": {},
   "source": [
    "# Dieta 1\n",
    "## dieta zapewniająca minimalne potrzeby dla osoby ważącej 62 kg\n"
   ]
  },
  {
   "cell_type": "code",
   "execution_count": 12,
   "metadata": {},
   "outputs": [
    {
     "name": "stdout",
     "output_type": "stream",
     "text": [
      "status = solve(m) = :Optimal\n",
      "  500 grams \tSalt substitute, potassium chloride\n",
      "    1 grams \tSalt, flavoured\n",
      "  500 grams \tCream of tartar, dry powder\n",
      "    2 grams \tCaffeine\n",
      "   13 grams \tCalcium\n",
      "    8 grams \tFibre\n",
      "  500 grams \tFolic acid\n",
      "    9 grams \tIodine\n",
      "  500 grams \tThiamin\n",
      "   19 grams \tVitamin C\n",
      "   12 grams \tVitamin E\n",
      "  124 grams \tCoffee, macchiato, from ground coffee beans, with skim cows milk\n",
      "  144 grams \tTea, regular, white, brewed from leaf or teabags, with cows milk not further defined\n",
      "   19 grams \tOil, safflower\n",
      "    3 grams \tShortening, commercial, vegetable fat (for coatings, creams, icings, confectionery & fillings)\n",
      "  291 grams \tOctopus, cooked, with or without added fat\n",
      "    2 grams \tOyster, cooked, with or without added fat\n",
      "  152 grams \tBar, nougat & caramel centre, milk chocolate-coated\n",
      "  217 grams \tLolly, non-mint flavours, intense sweetened\n",
      "  167 grams \tBok choy or choy sum, baked, roasted, fried, stir-fried, grilled or BBQ'd, no added fat\n",
      "  229 grams \tMixed vegetables, Asian greens, stir-fried or fried, fat not further defined\n"
     ]
    }
   ],
   "source": [
    "\n",
    "\n",
    "m, diet = new_diet()\n",
    "basic_nutrient_requirements(m, diet);\n",
    "\n",
    "@constraint(m, diet .<= 5) # nothing more than 500g\n",
    "@constraint(m, total_intake(\"Moisture (g)\", diet) <= 0.25sum(diet)*100) # Less than 25% liquid\n",
    "\n",
    "@objective(m, Min,  \n",
    "    total_intake(\"Energy, with dietary fibre (kJ)\", diet) + 0.01sum(diet)\n",
    ")\n",
    "@show status = solve(m)\n",
    "show_diet(diet)\n",
    "\n"
   ]
  },
  {
   "cell_type": "code",
   "execution_count": 13,
   "metadata": {},
   "outputs": [
    {
     "data": {
      "text/plain": [
       "forbid_liquids (generic function with 2 methods)"
      ]
     },
     "execution_count": 13,
     "metadata": {},
     "output_type": "execute_result"
    }
   ],
   "source": [
    "using DelimitedFiles\n",
    "\n",
    "function forbid_liquids(m::Model, diet, keywords=[\"milk\", \"drink\", \"Water\", \"Milk\"])\n",
    "    # not blocking lowercase \"water\" as that would block \"Soup made with water\"\n",
    "    \n",
    "    inds = keyword_using_inds = findall(x->any(occursin.(x, keywords)), nutrients[:, Symbol(\"Food Name\")])\n",
    "    high_moisture_inds =  findall(x->x>50, nutrients[:, Symbol(\"Moisture (g)\")])\n",
    "    inds = intersect(keyword_using_inds, high_moisture_inds)\n",
    "    #@show nutrients[inds, Symbol(\"Food Name\")]\n",
    "    @constraint(m, diet[inds] .== 0 ) # nothing more than 500g\n",
    "\n",
    "end\n",
    "\n"
   ]
  },
  {
   "cell_type": "markdown",
   "metadata": {},
   "source": [
    "# Dieta 1 z ograniczeniem płynów"
   ]
  },
  {
   "cell_type": "code",
   "execution_count": 14,
   "metadata": {},
   "outputs": [
    {
     "name": "stdout",
     "output_type": "stream",
     "text": [
      "status = solve(m) = :Optimal\n",
      "  300 grams \tStock, liquid, all flavours (except fish), homemade from basic ingredients\n",
      "  111 grams \tStock, liquid, fish, homemade from basic ingredients\n",
      "   10 grams \tFolic acid\n",
      "   >0 grams \tThiamin\n",
      "  300 grams \tCoffee, from ground coffee beans, with regular fat coffee whitener\n",
      "  300 grams \tCoffee, cappuccino, from ground coffee beans, with skim cows milk\n",
      "  300 grams \tCoffee, macchiato, from ground coffee beans, decaffeinated, with regular fat cows milk\n",
      "   48 grams \tCoffee, long black style, from ground coffee beans, double shot, without milk\n",
      "  300 grams \tTea, regular, white, brewed from leaf or teabags, with cows milk not further defined\n",
      "  300 grams \tWater, bottled, with added sugar, vitamins & minerals\n",
      "  300 grams \tMilk, almond, fluid\n",
      "  300 grams \tMilk, cow, fluid, prepared from dry powder, regular fat, standard dilution\n",
      "  300 grams \tMilk & water, reduced fat cow's milk & tap water\n",
      "  300 grams \tMilk & water, skim cow's milk & tap water\n",
      "   15 grams \tOil, safflower\n",
      "   41 grams \tCumquat (kumquat), raw\n",
      "   21 grams \tBeef, rump steak, fully-trimmed, raw\n",
      "   53 grams \tCoconut, milk, canned, not further defined\n",
      "   >0 grams \tNut, brazil, with or without skin, raw, unsalted\n",
      "    5 grams \tOyster, cooked, with or without added fat\n",
      "    5 grams \tBar, nougat & caramel centre, milk chocolate-coated\n",
      "  228 grams \tLolly, non-mint flavours, intense sweetened\n",
      "  300 grams \tBok choy or choy sum, baked, roasted, fried, stir-fried, grilled or BBQ'd, no added fat\n",
      "  228 grams \tCabbage, white, baked, roasted, fried, stir-fried, grilled or BBQ'd, fat not further defined\n",
      "  176 grams \tMixed vegetables, Asian greens, boiled, microwaved or steamed, drained\n"
     ]
    }
   ],
   "source": [
    "\n",
    "\n",
    "m, diet = new_diet()\n",
    "basic_nutrient_requirements(m, diet);\n",
    "forbid_liquids(m, diet)\n",
    "\n",
    "@constraint(m, diet .<= 3) # nothing more than 300g\n",
    "\n",
    "@objective(m, Min,  \n",
    "    total_intake(\"Energy, with dietary fibre (kJ)\", diet) + 0.01sum(diet)\n",
    ")\n",
    "@show status = solve(m)\n",
    "show_diet(diet)\n",
    "\n"
   ]
  },
  {
   "cell_type": "markdown",
   "metadata": {},
   "source": [
    "# Dieta 2\n",
    "## Dieta dla sportowca wytrzymałościowego ważącego 70 kg\n",
    "### W diecie uwzględniona została wysoka podaż białka"
   ]
  },
  {
   "cell_type": "code",
   "execution_count": 15,
   "metadata": {},
   "outputs": [
    {
     "data": {
      "text/plain": [
       "endurance_athlete_requirements (generic function with 2 methods)"
      ]
     },
     "execution_count": 15,
     "metadata": {},
     "output_type": "execute_result"
    }
   ],
   "source": [
    "#based on articles from https://www.nal.usda.gov/fnic/dri-tables-and-application-reports\n",
    "#recommendation for man 19-30 years old\n",
    "function endurance_athlete_requirements(m::Model, diet, weight = 70) # his weight is 70 kg\n",
    "    intake(nutrient_name) = total_intake(nutrient_name, diet) \n",
    "    # ^ closure over the diet given as an argument\n",
    "        \n",
    "    @constraints(m, begin\n",
    "        91 <= intake(\"Protein (g)\") \n",
    "        70 <= intake(\"Total fat (g)\") \n",
    "        24 <= intake(\"Total saturated fat (g)\") \n",
    "        70 <= intake(\"Total sugars (g)\") \n",
    "        intake(\"Alcohol (g)\") <= 0\n",
    "        350 <= intake(\"Available carbohydrates, with sugar alcohols (g)\") \n",
    "        intake(\"Sodium (Na) (mg)\") <= 2300 # Heart Council\n",
    "        intake(\"Caffeine (mg)\") <= 400\n",
    "        25 <=intake(\"Dietary fibre (g)\") \n",
    "        24 <= intake(\"Total trans fatty acids (mg)\") \n",
    "        900 <= intake(\"Vitamin A retinol equivalents (µg)\") <= 3000\n",
    "        1.2 <= intake(\"Thiamin (B1) (mg)\") \n",
    "        400 <= intake(\"Dietary folate equivalents  (µg)\") \n",
    "        1000 <= intake(\"Folic acid  (µg)\") # https://ods.od.nih.gov/factsheets/Folate-HealthProfessional/\n",
    "        75 <= intake(\"Vitamin C (mg)\") <= 2000 ##https://en.wikipedia.org/wiki/Dietary_Reference_Intake\n",
    "        #600 <= intake(\"Vitamin D (IU)\") <= 4000\n",
    "        95 <= intake(\"Iodine (I) (µg)\") <=1100 ##https://en.wikipedia.org/wiki/Dietary_Reference_Intake\n",
    "        6 <= intake(\"Iron (Fe) (mg)\") <= 45 # #https://en.wikipedia.org/wiki/Dietary_Reference_Intake\n",
    "        330 <= intake(\"Magnesium (Mg) (mg)\") \n",
    "        580 <= intake(\"Phosphorus (P) (mg)\") <= 4000 #https://en.wikipedia.org/wiki/Dietary_Reference_Intake\n",
    "        4700 <= intake(\"Potassium (K) (mg)\") \n",
    "        800 <= intake(\"Calcium (Ca) (mg)\") <= 2500 #https://en.wikipedia.org/wiki/Dietary_Reference_Intake\n",
    "        3.5*weight <= intake(\"Tryptophan (mg)\") <= 0.5*weight*1600 #0.5 * LD50 https://books.google.com.au/books?id=he7LBQAAQBAJ&pg=PA210&lpg=PA210&dq=Tryptophan+LD-50&source=bl&ots=yzi5Hx7hM2&sig=sd78LGAnavIwtT5AP-L4fzsFLZM&hl=en&sa=X&ved=0ahUKEwjJhcjFn6rQAhUKkJQKHbw6AiwQ6AEIMTAE#v=onepage&q=Tryptophan%20LD-50&f=false\n",
    "                                                #http://www.livestrong.com/article/541961-how-much-tryptophan-per-day/\n",
    "        17 <= intake(\"Linoleic acid (g)\")\n",
    "        #550 <= intake(\"Choline (g)\")\n",
    "        #16 <= intake(\"Niacin (g)\")\n",
    "        #5 <= intake(\"Patothenic Acid (mg)\")\n",
    "        \n",
    "        45 <= intake(\"Selenium (Se) (µg)\") <= 400 #https://en.wikipedia.org/wiki/Dietary_Reference_Intake\n",
    "        11 <= intake(\"Zinc (Zn) (mg)\") <= 40 #https://en.wikipedia.org/wiki/Dietary_Reference_Intake\n",
    "            \n",
    "            \n",
    "        15 <= intake(\"Vitamin E (mg)\") <= 1000    #https://www.livestrong.com/article/465706-vitamin-e-overdose-levels/\n",
    "        #120 <= intake(\"Vitamin K (µg)\") \n",
    "            \n",
    "        1.3 <= intake(\"Vitamin B6 (mg)\") <= 100  #https://www.news-medical.net/health/Can-You-Take-Too-Much-Vitamin-B.aspx\n",
    "        2.4 <= intake(\"Vitamin B12  (µg)\")   #https://www.news-medical.net/health/Can-You-Take-Too-Much-Vitamin-B.aspx\n",
    "        #1.3 <= intake(\"Vitamin B2 (mg)\")\n",
    "        \n",
    "    end)\n",
    "    \n",
    "end\n",
    "\n",
    "\n",
    "\n"
   ]
  },
  {
   "cell_type": "code",
   "execution_count": 16,
   "metadata": {},
   "outputs": [
    {
     "name": "stdout",
     "output_type": "stream",
     "text": [
      "status = solve(m) = :Optimal\n",
      "   10 grams \tFolic acid\n",
      "  300 grams \tCoffee, from ground coffee beans, with regular fat coffee whitener\n",
      "  300 grams \tCoffee, cappuccino, from ground coffee beans, with skim cows milk\n",
      "  300 grams \tCoffee, macchiato, from ground coffee beans, decaffeinated, with regular fat cows milk\n",
      "   49 grams \tCoffee, long black style, from ground coffee beans, double shot, without milk\n",
      "  300 grams \tTea, regular, white, brewed from leaf or teabags, with cows milk not further defined\n",
      "  224 grams \tWater, bottled, with added sugar, vitamins & minerals\n",
      "   26 grams \tMilk, almond, fluid\n",
      "  300 grams \tMilk, cow, fluid, prepared from dry powder, regular fat, standard dilution\n",
      "  300 grams \tMilk & water, reduced fat cow's milk & tap water\n",
      "  300 grams \tMilk & water, skim cow's milk & tap water\n",
      "   20 grams \tOil, safflower\n",
      "  300 grams \tBeef, rump steak, fully-trimmed, raw\n",
      "   28 grams \tVeal, stir-fry strips, untrimmed, raw\n",
      "  300 grams \tPork, silverside steak, untrimmed, raw\n",
      "  300 grams \tKangaroo, rump, raw\n",
      "   12 grams \tCoconut, milk, canned, not further defined\n",
      "   61 grams \tOctopus, cooked, with or without added fat\n",
      "  291 grams \tLolly, non-mint flavours, intense sweetened\n",
      "  300 grams \tBok choy or choy sum, baked, roasted, fried, stir-fried, grilled or BBQ'd, no added fat\n",
      "  158 grams \tMixed vegetables, Asian greens, stir-fried or fried, no added fat\n",
      "  300 grams \tMixed vegetables, Asian greens, boiled, microwaved or steamed, drained\n"
     ]
    }
   ],
   "source": [
    "\n",
    "\n",
    "m, diet = new_diet()\n",
    "endurance_athlete_requirements(m, diet);\n",
    "forbid_liquids(m, diet)\n",
    "@constraint(m, diet .<= 3) # nothing more than 300g\n",
    "\n",
    "\n",
    "@constraint(m,\n",
    "    9_000 <=\n",
    "        total_intake(\"Energy, with dietary fibre (kJ)\", diet)\n",
    "    <= 12_000\n",
    "    )\n",
    "@objective(m, Max,  \n",
    "    total_intake(\"Protein (g)\", diet)\n",
    ")\n",
    "@show status = solve(m)\n",
    "show_diet(diet)\n",
    "\n"
   ]
  },
  {
   "cell_type": "markdown",
   "metadata": {},
   "source": [
    "# Dieta 3\n",
    "## Dieta dla grupy 20 osób zapewniająca wymagane minimum wartości odżywczych oraz niską wagę\n",
    "### Może być zastosowana np. w podróży po schroniskach"
   ]
  },
  {
   "cell_type": "code",
   "execution_count": 17,
   "metadata": {},
   "outputs": [
    {
     "data": {
      "text/plain": [
       "basic_nutrient_group (generic function with 2 methods)"
      ]
     },
     "execution_count": 17,
     "metadata": {},
     "output_type": "execute_result"
    }
   ],
   "source": [
    "function total_intake(nutrient_name, diet)\n",
    "    nutrients[:, Symbol(nutrient_name)] ⋅ diet\n",
    "end\n",
    "\n",
    "function basic_nutrient_group(m::Model, diet, weight = 62) # average human is 62 kg\n",
    "    intake(nutrient_name) = total_intake(nutrient_name, diet) \n",
    "    # ^ closure over the diet given as an argument\n",
    "        \n",
    "    @constraints(m, begin\n",
    "        70 <= intake(\"Protein (g)\") \n",
    "        70 <= intake(\"Total fat (g)\") \n",
    "        24 <= intake(\"Total saturated fat (g)\") \n",
    "        90 <= intake(\"Total sugars (g)\") \n",
    "        intake(\"Alcohol (g)\") <= 100\n",
    "        310 <= intake(\"Available carbohydrates, with sugar alcohols (g)\") \n",
    "        intake(\"Sodium (Na) (mg)\") <= 2300 # Heart Council\n",
    "        intake(\"Caffeine (mg)\") <= 400\n",
    "        25 <=intake(\"Dietary fibre (g)\") \n",
    "        24 <= intake(\"Total trans fatty acids (mg)\") \n",
    "        25 <= intake(\"Vitamin A retinol equivalents (µg)\") <= 900\n",
    "        1.2 <= intake(\"Thiamin (B1) (mg)\") \n",
    "        400 <= intake(\"Dietary folate equivalents  (µg)\") \n",
    "        1000 <= intake(\"Folic acid  (µg)\") # https://ods.od.nih.gov/factsheets/Folate-HealthProfessional/\n",
    "        75 <= intake(\"Vitamin C (mg)\") <= 2000 ##https://en.wikipedia.org/wiki/Dietary_Reference_Intake\n",
    "        95 <= intake(\"Iodine (I) (µg)\") <=1100 ##https://en.wikipedia.org/wiki/Dietary_Reference_Intake\n",
    "        6 <= intake(\"Iron (Fe) (mg)\") <= 45 # #https://en.wikipedia.org/wiki/Dietary_Reference_Intake\n",
    "        330 <= intake(\"Magnesium (Mg) (mg)\") \n",
    "        580 <= intake(\"Phosphorus (P) (mg)\") <= 4000 #https://en.wikipedia.org/wiki/Dietary_Reference_Intake\n",
    "        4700 <= intake(\"Potassium (K) (mg)\") \n",
    "        800 <= intake(\"Calcium (Ca) (mg)\") <= 2500 #https://en.wikipedia.org/wiki/Dietary_Reference_Intake\n",
    "        3.5*weight <= intake(\"Tryptophan (mg)\") <= 0.5*weight*1600 #0.5 * LD50 https://books.google.com.au/books?id=he7LBQAAQBAJ&pg=PA210&lpg=PA210&dq=Tryptophan+LD-50&source=bl&ots=yzi5Hx7hM2&sig=sd78LGAnavIwtT5AP-L4fzsFLZM&hl=en&sa=X&ved=0ahUKEwjJhcjFn6rQAhUKkJQKHbw6AiwQ6AEIMTAE#v=onepage&q=Tryptophan%20LD-50&f=false\n",
    "                                                #http://www.livestrong.com/article/541961-how-much-tryptophan-per-day/\n",
    "        17 <= intake(\"Linoleic acid (g)\") \n",
    "\n",
    "        45 <= intake(\"Selenium (Se) (µg)\") <= 400 #https://en.wikipedia.org/wiki/Dietary_Reference_Intake\n",
    "        11 <= intake(\"Zinc (Zn) (mg)\") <= 40 #https://en.wikipedia.org/wiki/Dietary_Reference_Intake\n",
    "            \n",
    "            \n",
    "        6 <= intake(\"Vitamin E (mg)\") <= 1_200    #https://www.livestrong.com/article/465706-vitamin-e-overdose-levels/\n",
    "            \n",
    "        1.3 <= intake(\"Vitamin B6 (mg)\") <= 300  #https://www.news-medical.net/health/Can-You-Take-Too-Much-Vitamin-B.aspx\n",
    "        2.4 <= intake(\"Vitamin B12  (µg)\")   #https://www.news-medical.net/health/Can-You-Take-Too-Much-Vitamin-B.aspx\n",
    "            \n",
    "    end)\n",
    "    \n",
    "end\n",
    "\n"
   ]
  },
  {
   "cell_type": "code",
   "execution_count": 19,
   "metadata": {},
   "outputs": [
    {
     "name": "stdout",
     "output_type": "stream",
     "text": [
      "status = solve(m) = :Optimal\n",
      "  106 grams \tSalt substitute, potassium chloride\n",
      "  204 grams \tFibre\n",
      " 3407 grams \tBiscuit, savoury, rice cracker, from brown rice, all flavours\n",
      " 1957 grams \tBreakfast cereal, mixed grain (rice & wheat), flakes, added vitamins B1, B2, B3, B6 & folate, Ca, Fe & Zn\n",
      "  224 grams \tOil, copha\n",
      "  209 grams \tOil, safflower\n",
      "   11 grams \tNut, brazil, with or without skin, raw, unsalted\n",
      "  501 grams \tProtein powder, protein 45%, reduced sugars, fortified\n",
      "   48 grams \tProtein powder, protein 20%, fortified, caffeinated\n",
      " 1045 grams \tPotato crisps or chips, plain, unsalted\n",
      "  737 grams \tIntense sweetener, containing aspartame/acesulfame-potassium, tablet\n",
      " 1151 grams \tSugar, white, with added stevia, granulated\n",
      "   56 grams \tSeaweed, nori, dried\n",
      "Total: 483 grams\n"
     ]
    }
   ],
   "source": [
    "\n",
    "\n",
    "m, diet = new_diet()\n",
    "basic_nutrient_group(m, diet);\n",
    "forbid_liquids(m, diet)\n",
    "\n",
    "@constraint(m, diet .<= 5) # nothing more than 500g\n",
    "@constraint(m, total_intake(\"Moisture (g)\", diet) <= 0.25sum(diet)*100) # Less than 25% liquid\n",
    "\n",
    "# @objective(m, Min,  \n",
    "#      total_intake(\"Energy, with dietary fibre (kJ)\", diet) + 0.01sum(diet)\n",
    "#  )\n",
    "@objective(m, Min, sum(diet))\n",
    "@show status = solve(m)\n",
    "show_diet(diet*20)\n",
    "\n",
    "println(\"Total: $(round(Int, 100sum(getvalue(diet)))) grams\")"
   ]
  },
  {
   "cell_type": "code",
   "execution_count": null,
   "metadata": {},
   "outputs": [],
   "source": []
  }
 ],
 "metadata": {
  "kernelspec": {
   "display_name": "Julia 1.0.3 (4 threads)",
   "language": "julia",
   "name": "julia-1.0k"
  },
  "language_info": {
   "file_extension": ".jl",
   "mimetype": "application/julia",
   "name": "julia",
   "version": "1.0.3"
  }
 },
 "nbformat": 4,
 "nbformat_minor": 2
}
